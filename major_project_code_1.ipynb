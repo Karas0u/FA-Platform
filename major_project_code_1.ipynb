{
  "cells": [
    {
      "cell_type": "markdown",
      "id": "97GWwbmjQH8H",
      "metadata": {
        "id": "97GWwbmjQH8H"
      },
      "source": [
        "### Installing Dependencies"
      ]
    },
    {
      "cell_type": "code",
      "execution_count": null,
      "id": "f05c2a50",
      "metadata": {
        "colab": {
          "base_uri": "https://localhost:8080/"
        },
        "height": 30,
        "id": "f05c2a50",
        "outputId": "569046a8-03cb-4370-f2f5-58b849299d63"
      },
      "outputs": [
        {
          "output_type": "stream",
          "name": "stdout",
          "text": [
            "Requirement already satisfied: langchain in /usr/local/lib/python3.10/dist-packages (0.0.335)\n",
            "Requirement already satisfied: openai in /usr/local/lib/python3.10/dist-packages (1.2.4)\n",
            "Requirement already satisfied: pypdf in /usr/local/lib/python3.10/dist-packages (3.17.0)\n",
            "Requirement already satisfied: faiss-gpu in /usr/local/lib/python3.10/dist-packages (1.7.2)\n",
            "Requirement already satisfied: tiktoken in /usr/local/lib/python3.10/dist-packages (0.5.1)\n",
            "Requirement already satisfied: SpeechRecognition in /usr/local/lib/python3.10/dist-packages (3.10.0)\n",
            "Requirement already satisfied: youtube_dl in /usr/local/lib/python3.10/dist-packages (2021.12.17)\n",
            "Requirement already satisfied: moviepy in /usr/local/lib/python3.10/dist-packages (1.0.3)\n",
            "Requirement already satisfied: pyttsx3 in /usr/local/lib/python3.10/dist-packages (2.90)\n",
            "Requirement already satisfied: youtube-search-python in /usr/local/lib/python3.10/dist-packages (1.6.6)\n",
            "Requirement already satisfied: py-espeak-ng in /usr/local/lib/python3.10/dist-packages (0.1.8)\n",
            "Requirement already satisfied: bs4 in /usr/local/lib/python3.10/dist-packages (0.0.1)\n",
            "Requirement already satisfied: gradio in /usr/local/lib/python3.10/dist-packages (4.3.0)\n",
            "Requirement already satisfied: PyYAML>=5.3 in /usr/local/lib/python3.10/dist-packages (from langchain) (6.0.1)\n",
            "Requirement already satisfied: SQLAlchemy<3,>=1.4 in /usr/local/lib/python3.10/dist-packages (from langchain) (2.0.23)\n",
            "Requirement already satisfied: aiohttp<4.0.0,>=3.8.3 in /usr/local/lib/python3.10/dist-packages (from langchain) (3.8.6)\n",
            "Requirement already satisfied: anyio<4.0 in /usr/local/lib/python3.10/dist-packages (from langchain) (3.7.1)\n",
            "Requirement already satisfied: async-timeout<5.0.0,>=4.0.0 in /usr/local/lib/python3.10/dist-packages (from langchain) (4.0.3)\n",
            "Requirement already satisfied: dataclasses-json<0.7,>=0.5.7 in /usr/local/lib/python3.10/dist-packages (from langchain) (0.6.2)\n",
            "Requirement already satisfied: jsonpatch<2.0,>=1.33 in /usr/local/lib/python3.10/dist-packages (from langchain) (1.33)\n",
            "Requirement already satisfied: langsmith<0.1.0,>=0.0.63 in /usr/local/lib/python3.10/dist-packages (from langchain) (0.0.64)\n",
            "Requirement already satisfied: numpy<2,>=1 in /usr/local/lib/python3.10/dist-packages (from langchain) (1.23.5)\n",
            "Requirement already satisfied: pydantic<3,>=1 in /usr/local/lib/python3.10/dist-packages (from langchain) (2.5.0)\n",
            "Requirement already satisfied: requests<3,>=2 in /usr/local/lib/python3.10/dist-packages (from langchain) (2.31.0)\n",
            "Requirement already satisfied: tenacity<9.0.0,>=8.1.0 in /usr/local/lib/python3.10/dist-packages (from langchain) (8.2.3)\n",
            "Requirement already satisfied: distro<2,>=1.7.0 in /usr/lib/python3/dist-packages (from openai) (1.7.0)\n",
            "Requirement already satisfied: httpx<1,>=0.23.0 in /usr/local/lib/python3.10/dist-packages (from openai) (0.25.1)\n",
            "Requirement already satisfied: tqdm>4 in /usr/local/lib/python3.10/dist-packages (from openai) (4.66.1)\n",
            "Requirement already satisfied: typing-extensions<5,>=4.5 in /usr/local/lib/python3.10/dist-packages (from openai) (4.8.0)\n",
            "Requirement already satisfied: regex>=2022.1.18 in /usr/local/lib/python3.10/dist-packages (from tiktoken) (2023.6.3)\n",
            "Requirement already satisfied: decorator<5.0,>=4.0.2 in /usr/local/lib/python3.10/dist-packages (from moviepy) (4.4.2)\n",
            "Requirement already satisfied: proglog<=1.0.0 in /usr/local/lib/python3.10/dist-packages (from moviepy) (0.1.10)\n",
            "Requirement already satisfied: imageio<3.0,>=2.5 in /usr/local/lib/python3.10/dist-packages (from moviepy) (2.31.6)\n",
            "Requirement already satisfied: imageio-ffmpeg>=0.2.0 in /usr/local/lib/python3.10/dist-packages (from moviepy) (0.4.9)\n",
            "Requirement already satisfied: beautifulsoup4 in /usr/local/lib/python3.10/dist-packages (from bs4) (4.11.2)\n",
            "Requirement already satisfied: aiofiles<24.0,>=22.0 in /usr/local/lib/python3.10/dist-packages (from gradio) (23.2.1)\n",
            "Requirement already satisfied: altair<6.0,>=4.2.0 in /usr/local/lib/python3.10/dist-packages (from gradio) (4.2.2)\n",
            "Requirement already satisfied: fastapi in /usr/local/lib/python3.10/dist-packages (from gradio) (0.104.1)\n",
            "Requirement already satisfied: ffmpy in /usr/local/lib/python3.10/dist-packages (from gradio) (0.3.1)\n",
            "Requirement already satisfied: gradio-client==0.7.0 in /usr/local/lib/python3.10/dist-packages (from gradio) (0.7.0)\n",
            "Requirement already satisfied: huggingface-hub>=0.14.0 in /usr/local/lib/python3.10/dist-packages (from gradio) (0.19.1)\n",
            "Requirement already satisfied: importlib-resources<7.0,>=1.3 in /usr/local/lib/python3.10/dist-packages (from gradio) (6.1.1)\n",
            "Requirement already satisfied: jinja2<4.0 in /usr/local/lib/python3.10/dist-packages (from gradio) (3.1.2)\n",
            "Requirement already satisfied: markupsafe~=2.0 in /usr/local/lib/python3.10/dist-packages (from gradio) (2.1.3)\n",
            "Requirement already satisfied: matplotlib~=3.0 in /usr/local/lib/python3.10/dist-packages (from gradio) (3.7.1)\n",
            "Requirement already satisfied: orjson~=3.0 in /usr/local/lib/python3.10/dist-packages (from gradio) (3.9.10)\n",
            "Requirement already satisfied: packaging in /usr/local/lib/python3.10/dist-packages (from gradio) (23.2)\n",
            "Requirement already satisfied: pandas<3.0,>=1.0 in /usr/local/lib/python3.10/dist-packages (from gradio) (1.5.3)\n",
            "Requirement already satisfied: pillow<11.0,>=8.0 in /usr/local/lib/python3.10/dist-packages (from gradio) (9.4.0)\n",
            "Requirement already satisfied: pydub in /usr/local/lib/python3.10/dist-packages (from gradio) (0.25.1)\n",
            "Requirement already satisfied: python-multipart in /usr/local/lib/python3.10/dist-packages (from gradio) (0.0.6)\n",
            "Requirement already satisfied: semantic-version~=2.0 in /usr/local/lib/python3.10/dist-packages (from gradio) (2.10.0)\n",
            "Requirement already satisfied: tomlkit==0.12.0 in /usr/local/lib/python3.10/dist-packages (from gradio) (0.12.0)\n",
            "Requirement already satisfied: typer[all]<1.0,>=0.9 in /usr/local/lib/python3.10/dist-packages (from gradio) (0.9.0)\n",
            "Requirement already satisfied: uvicorn>=0.14.0 in /usr/local/lib/python3.10/dist-packages (from gradio) (0.24.0.post1)\n",
            "Requirement already satisfied: fsspec in /usr/local/lib/python3.10/dist-packages (from gradio-client==0.7.0->gradio) (2023.6.0)\n",
            "Requirement already satisfied: websockets<12.0,>=10.0 in /usr/local/lib/python3.10/dist-packages (from gradio-client==0.7.0->gradio) (11.0.3)\n",
            "Requirement already satisfied: attrs>=17.3.0 in /usr/local/lib/python3.10/dist-packages (from aiohttp<4.0.0,>=3.8.3->langchain) (23.1.0)\n",
            "Requirement already satisfied: charset-normalizer<4.0,>=2.0 in /usr/local/lib/python3.10/dist-packages (from aiohttp<4.0.0,>=3.8.3->langchain) (3.3.2)\n",
            "Requirement already satisfied: multidict<7.0,>=4.5 in /usr/local/lib/python3.10/dist-packages (from aiohttp<4.0.0,>=3.8.3->langchain) (6.0.4)\n",
            "Requirement already satisfied: yarl<2.0,>=1.0 in /usr/local/lib/python3.10/dist-packages (from aiohttp<4.0.0,>=3.8.3->langchain) (1.9.2)\n",
            "Requirement already satisfied: frozenlist>=1.1.1 in /usr/local/lib/python3.10/dist-packages (from aiohttp<4.0.0,>=3.8.3->langchain) (1.4.0)\n",
            "Requirement already satisfied: aiosignal>=1.1.2 in /usr/local/lib/python3.10/dist-packages (from aiohttp<4.0.0,>=3.8.3->langchain) (1.3.1)\n",
            "Requirement already satisfied: entrypoints in /usr/local/lib/python3.10/dist-packages (from altair<6.0,>=4.2.0->gradio) (0.4)\n",
            "Requirement already satisfied: jsonschema>=3.0 in /usr/local/lib/python3.10/dist-packages (from altair<6.0,>=4.2.0->gradio) (4.19.2)\n",
            "Requirement already satisfied: toolz in /usr/local/lib/python3.10/dist-packages (from altair<6.0,>=4.2.0->gradio) (0.12.0)\n",
            "Requirement already satisfied: idna>=2.8 in /usr/local/lib/python3.10/dist-packages (from anyio<4.0->langchain) (3.4)\n",
            "Requirement already satisfied: sniffio>=1.1 in /usr/local/lib/python3.10/dist-packages (from anyio<4.0->langchain) (1.3.0)\n",
            "Requirement already satisfied: exceptiongroup in /usr/local/lib/python3.10/dist-packages (from anyio<4.0->langchain) (1.1.3)\n",
            "Requirement already satisfied: marshmallow<4.0.0,>=3.18.0 in /usr/local/lib/python3.10/dist-packages (from dataclasses-json<0.7,>=0.5.7->langchain) (3.20.1)\n",
            "Requirement already satisfied: typing-inspect<1,>=0.4.0 in /usr/local/lib/python3.10/dist-packages (from dataclasses-json<0.7,>=0.5.7->langchain) (0.9.0)\n",
            "Requirement already satisfied: certifi in /usr/local/lib/python3.10/dist-packages (from httpx<1,>=0.23.0->openai) (2023.7.22)\n",
            "Requirement already satisfied: httpcore in /usr/local/lib/python3.10/dist-packages (from httpx<1,>=0.23.0->openai) (1.0.2)\n",
            "Requirement already satisfied: filelock in /usr/local/lib/python3.10/dist-packages (from huggingface-hub>=0.14.0->gradio) (3.13.1)\n",
            "Requirement already satisfied: setuptools in /usr/local/lib/python3.10/dist-packages (from imageio-ffmpeg>=0.2.0->moviepy) (67.7.2)\n",
            "Requirement already satisfied: jsonpointer>=1.9 in /usr/local/lib/python3.10/dist-packages (from jsonpatch<2.0,>=1.33->langchain) (2.4)\n",
            "Requirement already satisfied: contourpy>=1.0.1 in /usr/local/lib/python3.10/dist-packages (from matplotlib~=3.0->gradio) (1.2.0)\n",
            "Requirement already satisfied: cycler>=0.10 in /usr/local/lib/python3.10/dist-packages (from matplotlib~=3.0->gradio) (0.12.1)\n",
            "Requirement already satisfied: fonttools>=4.22.0 in /usr/local/lib/python3.10/dist-packages (from matplotlib~=3.0->gradio) (4.44.0)\n",
            "Requirement already satisfied: kiwisolver>=1.0.1 in /usr/local/lib/python3.10/dist-packages (from matplotlib~=3.0->gradio) (1.4.5)\n",
            "Requirement already satisfied: pyparsing>=2.3.1 in /usr/local/lib/python3.10/dist-packages (from matplotlib~=3.0->gradio) (3.1.1)\n",
            "Requirement already satisfied: python-dateutil>=2.7 in /usr/local/lib/python3.10/dist-packages (from matplotlib~=3.0->gradio) (2.8.2)\n",
            "Requirement already satisfied: pytz>=2020.1 in /usr/local/lib/python3.10/dist-packages (from pandas<3.0,>=1.0->gradio) (2023.3.post1)\n",
            "Requirement already satisfied: annotated-types>=0.4.0 in /usr/local/lib/python3.10/dist-packages (from pydantic<3,>=1->langchain) (0.6.0)\n",
            "Requirement already satisfied: pydantic-core==2.14.1 in /usr/local/lib/python3.10/dist-packages (from pydantic<3,>=1->langchain) (2.14.1)\n",
            "Requirement already satisfied: urllib3<3,>=1.21.1 in /usr/local/lib/python3.10/dist-packages (from requests<3,>=2->langchain) (2.0.7)\n",
            "Requirement already satisfied: greenlet!=0.4.17 in /usr/local/lib/python3.10/dist-packages (from SQLAlchemy<3,>=1.4->langchain) (3.0.1)\n",
            "Requirement already satisfied: click<9.0.0,>=7.1.1 in /usr/local/lib/python3.10/dist-packages (from typer[all]<1.0,>=0.9->gradio) (8.1.7)\n",
            "Requirement already satisfied: colorama<0.5.0,>=0.4.3 in /usr/local/lib/python3.10/dist-packages (from typer[all]<1.0,>=0.9->gradio) (0.4.6)\n",
            "Requirement already satisfied: shellingham<2.0.0,>=1.3.0 in /usr/local/lib/python3.10/dist-packages (from typer[all]<1.0,>=0.9->gradio) (1.5.4)\n",
            "Requirement already satisfied: rich<14.0.0,>=10.11.0 in /usr/local/lib/python3.10/dist-packages (from typer[all]<1.0,>=0.9->gradio) (13.6.0)\n",
            "Requirement already satisfied: h11>=0.8 in /usr/local/lib/python3.10/dist-packages (from uvicorn>=0.14.0->gradio) (0.14.0)\n",
            "Requirement already satisfied: soupsieve>1.2 in /usr/local/lib/python3.10/dist-packages (from beautifulsoup4->bs4) (2.5)\n",
            "Requirement already satisfied: starlette<0.28.0,>=0.27.0 in /usr/local/lib/python3.10/dist-packages (from fastapi->gradio) (0.27.0)\n",
            "Requirement already satisfied: jsonschema-specifications>=2023.03.6 in /usr/local/lib/python3.10/dist-packages (from jsonschema>=3.0->altair<6.0,>=4.2.0->gradio) (2023.7.1)\n",
            "Requirement already satisfied: referencing>=0.28.4 in /usr/local/lib/python3.10/dist-packages (from jsonschema>=3.0->altair<6.0,>=4.2.0->gradio) (0.30.2)\n",
            "Requirement already satisfied: rpds-py>=0.7.1 in /usr/local/lib/python3.10/dist-packages (from jsonschema>=3.0->altair<6.0,>=4.2.0->gradio) (0.12.0)\n",
            "Requirement already satisfied: six>=1.5 in /usr/local/lib/python3.10/dist-packages (from python-dateutil>=2.7->matplotlib~=3.0->gradio) (1.16.0)\n",
            "Requirement already satisfied: markdown-it-py>=2.2.0 in /usr/local/lib/python3.10/dist-packages (from rich<14.0.0,>=10.11.0->typer[all]<1.0,>=0.9->gradio) (3.0.0)\n",
            "Requirement already satisfied: pygments<3.0.0,>=2.13.0 in /usr/local/lib/python3.10/dist-packages (from rich<14.0.0,>=10.11.0->typer[all]<1.0,>=0.9->gradio) (2.16.1)\n",
            "Requirement already satisfied: mypy-extensions>=0.3.0 in /usr/local/lib/python3.10/dist-packages (from typing-inspect<1,>=0.4.0->dataclasses-json<0.7,>=0.5.7->langchain) (1.0.0)\n",
            "Requirement already satisfied: mdurl~=0.1 in /usr/local/lib/python3.10/dist-packages (from markdown-it-py>=2.2.0->rich<14.0.0,>=10.11.0->typer[all]<1.0,>=0.9->gradio) (0.1.2)\n"
          ]
        }
      ],
      "source": [
        "!pip install langchain openai pypdf faiss-gpu tiktoken SpeechRecognition youtube_dl moviepy pyttsx3 youtube-search-python py-espeak-ng bs4 gradio\n",
        "\n"
      ]
    },
    {
      "cell_type": "markdown",
      "id": "DUcjxuUWQNlQ",
      "metadata": {
        "id": "DUcjxuUWQNlQ"
      },
      "source": [
        "### Importing Modules"
      ]
    },
    {
      "cell_type": "code",
      "execution_count": null,
      "id": "c3a56f5b",
      "metadata": {
        "height": 558,
        "id": "c3a56f5b"
      },
      "outputs": [],
      "source": [
        "from langchain.text_splitter import RecursiveCharacterTextSplitter\n",
        "from langchain.llms import OpenAI\n",
        "from langchain.chains import RetrievalQA\n",
        "from langchain.document_loaders import PyPDFLoader\n",
        "from langchain.document_loaders import DirectoryLoader\n",
        "from langchain.chat_models import ChatOpenAI\n",
        "from langchain.chains import RetrievalQAWithSourcesChain\n",
        "from langchain.memory import ConversationBufferMemory,ConversationSummaryBufferMemory, ConversationBufferWindowMemory, ChatMessageHistory\n",
        "from langchain.chains import ConversationChain\n",
        "from langchain.chains import ConversationalRetrievalChain\n",
        "from langchain.chains import RetrievalQA\n",
        "\n",
        "# OpenAI Embedding\n",
        "from langchain.embeddings import OpenAIEmbeddings\n",
        "import faiss\n",
        "from langchain.vectorstores import FAISS\n",
        "\n",
        "# importing libraries\n",
        "import cv2\n",
        "import os\n",
        "import sys\n",
        "import subprocess\n",
        "import speech_recognition as sr\n",
        "import youtube_dl\n",
        "import datetime\n",
        "import pyttsx3\n",
        "from moviepy.editor import VideoFileClip\n",
        "from youtubesearchpython import VideosSearch\n",
        "from bs4 import BeautifulSoup\n",
        "import requests, json, lxml\n",
        "import textwrap\n",
        "import gradio as gr\n",
        "\n"
      ]
    },
    {
      "cell_type": "markdown",
      "id": "zHmI9_3JP7HA",
      "metadata": {
        "id": "zHmI9_3JP7HA"
      },
      "source": [
        "### Providing Custom Content"
      ]
    },
    {
      "cell_type": "code",
      "execution_count": null,
      "id": "387347f3",
      "metadata": {
        "height": 64,
        "id": "387347f3"
      },
      "outputs": [],
      "source": [
        "# loader = TextLoader('single_text_file.txt')\n",
        "loader = DirectoryLoader(f\"data\", glob=\"./*.pdf\", loader_cls=PyPDFLoader)\n",
        "documents = loader.load()"
      ]
    },
    {
      "cell_type": "code",
      "execution_count": null,
      "id": "c3212dc0",
      "metadata": {
        "height": 98,
        "id": "c3212dc0"
      },
      "outputs": [],
      "source": [
        "text_splitter = RecursiveCharacterTextSplitter(\n",
        "                                               chunk_size=1000,\n",
        "                                               chunk_overlap=200)\n",
        "\n",
        "documents = text_splitter.split_documents(documents)"
      ]
    },
    {
      "cell_type": "code",
      "execution_count": null,
      "id": "a84ab1a1",
      "metadata": {
        "colab": {
          "base_uri": "https://localhost:8080/"
        },
        "height": 30,
        "id": "a84ab1a1",
        "outputId": "81d56af4-9721-48ad-bb1b-a9d1d4894263"
      },
      "outputs": [
        {
          "output_type": "execute_result",
          "data": {
            "text/plain": [
              "Document(page_content='The International Journal Of Engineering And Science (IJES)  \\n||Volume||2 ||Issue|| 6 ||Pages|| 01-05||2013||  \\nISSN (e):  2319 – 1813  ISSN (p) : 2319 – 1805  \\nwww.theijes.com                                                The IJES                                            Page 1 \\n \\nA Study Of  “Trend Analysis In Insurance Sector In India ” \\n \\nM.Venkatesh  \\n \\n------------------------------------------------------------ ABSTRACT ---------------------------------------------------------  \\nInsurance has a long history in India. Life Insurance in i ts current form was introduced in 1818 when Oriental \\nLife Insurance Company began its operations in India. General insurance was however a comparatively late \\nentrant in 1850 when Triton Insurance company set up its base in Kolkata. History of Insurance in India can be \\nbroadly bifurcated into three eras: a) Pre Nationalization b) Nationalization and c) Post Nationalization. Life', metadata={'source': 'data/insurance.pdf', 'page': 0})"
            ]
          },
          "metadata": {},
          "execution_count": 7
        }
      ],
      "source": [
        "documents[0]"
      ]
    },
    {
      "cell_type": "markdown",
      "id": "gBGcKixePbJe",
      "metadata": {
        "id": "gBGcKixePbJe"
      },
      "source": [
        "### OpenAI API Integration"
      ]
    },
    {
      "cell_type": "code",
      "execution_count": null,
      "id": "2b450290",
      "metadata": {
        "height": 30,
        "id": "2b450290"
      },
      "outputs": [],
      "source": [
        "import os\n",
        "import openai\n",
        "from google.colab import userdata\n",
        "\n",
        "os.environ[\"OPENAI_API_KEY\"] = userdata.get('apiKey1')"
      ]
    },
    {
      "cell_type": "code",
      "execution_count": null,
      "id": "b1ea717a",
      "metadata": {
        "height": 30,
        "id": "b1ea717a"
      },
      "outputs": [],
      "source": [
        "open_ai_embeddings=OpenAIEmbeddings()"
      ]
    },
    {
      "cell_type": "code",
      "execution_count": null,
      "id": "2d867e33",
      "metadata": {
        "height": 30,
        "id": "2d867e33"
      },
      "outputs": [],
      "source": [
        "vector_store = FAISS.from_documents(documents, open_ai_embeddings)"
      ]
    },
    {
      "cell_type": "code",
      "execution_count": null,
      "id": "abc6a9ff",
      "metadata": {
        "height": 30,
        "id": "abc6a9ff"
      },
      "outputs": [],
      "source": [
        "retriever = vector_store.as_retriever(search_type=\"similarity\",search_kwargs={\"k\": 4})"
      ]
    },
    {
      "cell_type": "markdown",
      "id": "AN7IH1ijMDGn",
      "metadata": {
        "id": "AN7IH1ijMDGn"
      },
      "source": [
        "### Prompt\n"
      ]
    },
    {
      "cell_type": "code",
      "execution_count": null,
      "id": "9dc0feb7",
      "metadata": {
        "height": 115,
        "id": "9dc0feb7"
      },
      "outputs": [],
      "source": [
        "from langchain.prompts.chat import (\n",
        "    ChatPromptTemplate,\n",
        "    PromptTemplate,\n",
        "    SystemMessagePromptTemplate,\n",
        "    HumanMessagePromptTemplate,\n",
        ")"
      ]
    },
    {
      "cell_type": "code",
      "execution_count": null,
      "id": "0f99af0e",
      "metadata": {
        "height": 524,
        "id": "0f99af0e"
      },
      "outputs": [],
      "source": [
        "system_template=template = \"\"\"\n",
        "\n",
        "You are a helpful and friendly Assistant to a Personal Financial Manager to a  PFA Corp.\n",
        "Use the following conversation and pieces of context provided to you as documents to answer the users question.\n",
        "Do not answer the question which are not related to Banking, financial services and insurance industry and\n",
        "might harm the policies of PFA Corp. If user asks any such question reply in a funny tone that \"I don't know the answer\"\n",
        "\n",
        "The goal of the yours is to accurately respond to customer queries, based on the available context,\n",
        "while avoiding the provision of false or nonexistent information. You should embody a professional and knowledgeable persona, representing PFA Corp as a trusted and reliable financial advisory provider.\n",
        "\n",
        "Make sure that you should \"verify the existence of information from context provided to you in\n",
        "documents form before providing an answer and refrain from answering if the information is unavailable or nonexistent.\n",
        "If you are unsure about an answer due to insufficient context, it should politely request clarification from\n",
        "the customer or provide alternative suggestions for obtaining the required information.\n",
        "Answer every query in least 150 words and in form of bullets point.\n",
        "\n",
        "In final response briefly in 1 line tell the qualities that manager should incorporate while dealing with client\n",
        "\n",
        "Make sure to format the answer in form of bullet points.\n",
        "\n",
        "----------------\n",
        "Current conversation:\n",
        "{chat_history}\n",
        "Human:\n",
        "{question}\n",
        "Context:\n",
        "{context}\"\"\"\n",
        "messages = [\n",
        "    SystemMessagePromptTemplate.from_template(system_template),\n",
        "    HumanMessagePromptTemplate.from_template(\"{question}\")\n",
        "]\n",
        "prompt = ChatPromptTemplate.from_messages(messages)"
      ]
    },
    {
      "cell_type": "code",
      "execution_count": null,
      "id": "05348134",
      "metadata": {
        "height": 370,
        "id": "05348134"
      },
      "outputs": [],
      "source": [
        "history = ChatMessageHistory()\n",
        "llm = ChatOpenAI(model_name=\"gpt-3.5-turbo\", temperature=0.6, max_tokens=500)   # Modify model_name if you have access to GPT-4\n",
        "memory = ConversationBufferWindowMemory(memory_key=\"chat_history\", return_messages=True,k=5,output_key=\"answer\")\n",
        "\n",
        "chain = ConversationalRetrievalChain.from_llm(llm=llm, retriever=retriever,chain_type=\"stuff\",memory=memory,\n",
        "                       verbose=False,combine_docs_chain_kwargs={\"prompt\": prompt},return_source_documents=True)"
      ]
    },
    {
      "cell_type": "markdown",
      "id": "zOS07DRMPrLg",
      "metadata": {
        "id": "zOS07DRMPrLg"
      },
      "source": [
        "### Q & A from Langchain"
      ]
    },
    {
      "cell_type": "code",
      "execution_count": null,
      "id": "ffa81604",
      "metadata": {
        "height": 47,
        "id": "ffa81604"
      },
      "outputs": [],
      "source": [
        "query = \"how did the nationalisation of life and general insurance companies in india will impact the overall industry\""
      ]
    },
    {
      "cell_type": "markdown",
      "id": "VSQYN3lujxZb",
      "metadata": {
        "id": "VSQYN3lujxZb"
      },
      "source": [
        "### Response"
      ]
    },
    {
      "cell_type": "code",
      "execution_count": null,
      "id": "f779e115",
      "metadata": {
        "id": "f779e115"
      },
      "outputs": [],
      "source": [
        "# Cite sources\n",
        "def process_llm_response(llm_response):\n",
        "    ans =\"\"\n",
        "    for source in llm_response[\"source_documents\"]:\n",
        "        ans = ans + \"\\n\" + \"PDF name: \"+ str(source.metadata['source']) + \" , Page no. \"  + str(source.metadata[\"page\"])+ \"\\n\\n\"\n",
        "    return(ans)"
      ]
    },
    {
      "cell_type": "code",
      "source": [
        "# Prints output\n",
        "llm_response = chain(query)\n",
        "print(\"Response: \\n\")\n",
        "# Extract the 'answer' from the response\n",
        "answer = llm_response.get('answer', 'Answer not found in the response.')\n",
        "print(answer)\n",
        "print(\"\\n\")\n",
        "\n",
        "#ans = process_llm_response(llm_response)\n",
        "#print(\"\\nSources are: \")\n",
        "#print(ans)"
      ],
      "metadata": {
        "colab": {
          "base_uri": "https://localhost:8080/"
        },
        "id": "qCE8vVh0rKRZ",
        "outputId": "ceb9fe22-331a-4caf-86c4-9cf3699eabd0"
      },
      "id": "qCE8vVh0rKRZ",
      "execution_count": null,
      "outputs": [
        {
          "output_type": "stream",
          "name": "stdout",
          "text": [
            "Response: \n",
            "\n",
            "The nationalization of life and general insurance companies in India had several impacts on the overall industry:\n",
            "\n",
            "- Increased government control: Nationalization brought the insurance industry under the control of the government. This meant that the government had a greater say in the policies, regulations, and operations of the insurance companies.\n",
            "\n",
            "- Consolidation of companies: The nationalization process led to the consolidation of multiple insurance companies into a few state-owned entities. General Insurance Corporation of India was established as the controlling body, with subsidiaries such as New India, United India, National, and Oriental. This consolidation aimed to streamline operations and improve efficiency.\n",
            "\n",
            "- Limited competition: Nationalization resulted in a limited number of insurance companies operating in the market. This reduced competition among insurers and gave the state-owned companies a dominant position in the industry.\n",
            "\n",
            "- Reduced innovation: With limited competition and government control, the pace of innovation in the insurance industry may have been slower during the nationalization era. The focus was more on providing basic insurance services rather than introducing new products or technologies.\n",
            "\n",
            "- Post-privatization opportunities: The opening up of the insurance sector for private companies from 2001 onwards created new employment opportunities in consulting, broking, and education. This phase allowed for more competition, innovation, and growth in the industry.\n",
            "\n",
            "Overall, the nationalization of life and general insurance companies in India had a significant impact on the industry, including increased government control, consolidation of companies, limited competition, and slower innovation. However, the post-privatization phase brought new opportunities for growth and development in the insurance sector.\n",
            "\n",
            "\n",
            "\n",
            "Sources are: \n",
            "\n",
            "PDF name: data/insurance.pdf , Page no. 0\n",
            "\n",
            "\n",
            "PDF name: data/insurance.pdf , Page no. 4\n",
            "\n",
            "\n",
            "PDF name: data/insurance.pdf , Page no. 1\n",
            "\n",
            "\n",
            "PDF name: data/insurance.pdf , Page no. 4\n",
            "\n",
            "\n"
          ]
        }
      ]
    }
  ],
  "metadata": {
    "colab": {
      "provenance": []
    },
    "kernelspec": {
      "display_name": "Python 3 (ipykernel)",
      "language": "python",
      "name": "python3"
    },
    "language_info": {
      "codemirror_mode": {
        "name": "ipython",
        "version": 3
      },
      "file_extension": ".py",
      "mimetype": "text/x-python",
      "name": "python",
      "nbconvert_exporter": "python",
      "pygments_lexer": "ipython3",
      "version": "3.9.13"
    }
  },
  "nbformat": 4,
  "nbformat_minor": 5
}